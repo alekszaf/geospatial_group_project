{
 "cells": [
  {
   "cell_type": "markdown",
   "metadata": {},
   "source": [
    "Import the required packages."
   ]
  },
  {
   "cell_type": "code",
   "execution_count": 1,
   "metadata": {},
   "outputs": [],
   "source": [
    "import pandas as pd\n",
    "import numpy as np\n",
    "import os\n",
    "from glob import glob"
   ]
  },
  {
   "cell_type": "markdown",
   "metadata": {},
   "source": [
    "Set the path to the folder with all the datasets (PATH) and assign a variable holidng the extension of all the data files (in this case csv)."
   ]
  },
  {
   "cell_type": "code",
   "execution_count": 3,
   "metadata": {},
   "outputs": [],
   "source": [
    "PATH = 'D:/group_project/urban_observatory/datasets'\n",
    "EXT = '*.csv'"
   ]
  },
  {
   "cell_type": "markdown",
   "metadata": {},
   "source": [
    "Set up a list to hold all of the csv files used for the analysis. Use os.walk to explore the directory given by PATH. Every file in the directory with extention csv - add the the empty list of all csvs."
   ]
  },
  {
   "cell_type": "code",
   "execution_count": 4,
   "metadata": {},
   "outputs": [],
   "source": [
    "all_csv = []\n",
    "for path, subdir, files in os.walk(PATH): #Explore the directory \n",
    "    for file in glob(os.path.join(path, EXT)): #Look for files in the directory with the given extension\n",
    "        all_csv.append(file) #Add ach file with the given extension to the list."
   ]
  },
  {
   "cell_type": "markdown",
   "metadata": {},
   "source": [
    "Read all the csv files and convert them to dataframe."
   ]
  },
  {
   "cell_type": "code",
   "execution_count": 5,
   "metadata": {},
   "outputs": [],
   "source": [
    "aq_df = [] # new list storing all the dataframes\n",
    "for file in all_csv:\n",
    "    aq_df.append(pd.read_csv(file))"
   ]
  },
  {
   "cell_type": "code",
   "execution_count": 6,
   "metadata": {},
   "outputs": [],
   "source": [
    "aq_df_total = pd.concat(aq_df) # Concatinate all the dataframes in the list to create one dataframe"
   ]
  },
  {
   "cell_type": "code",
   "execution_count": 7,
   "metadata": {},
   "outputs": [
    {
     "data": {
      "text/html": [
       "<div>\n",
       "<style scoped>\n",
       "    .dataframe tbody tr th:only-of-type {\n",
       "        vertical-align: middle;\n",
       "    }\n",
       "\n",
       "    .dataframe tbody tr th {\n",
       "        vertical-align: top;\n",
       "    }\n",
       "\n",
       "    .dataframe thead th {\n",
       "        text-align: right;\n",
       "    }\n",
       "</style>\n",
       "<table border=\"1\" class=\"dataframe\">\n",
       "  <thead>\n",
       "    <tr style=\"text-align: right;\">\n",
       "      <th></th>\n",
       "      <th>Sensor Name</th>\n",
       "      <th>Variable</th>\n",
       "      <th>Units</th>\n",
       "      <th>Timestamp</th>\n",
       "      <th>Value</th>\n",
       "      <th>Flagged as Suspect Reading</th>\n",
       "    </tr>\n",
       "  </thead>\n",
       "  <tbody>\n",
       "    <tr>\n",
       "      <td>0</td>\n",
       "      <td>PER_EMOTE_2201</td>\n",
       "      <td>NO2</td>\n",
       "      <td>ugm -3</td>\n",
       "      <td>2019-07-01 00:00:56</td>\n",
       "      <td>21.849183</td>\n",
       "      <td>False</td>\n",
       "    </tr>\n",
       "    <tr>\n",
       "      <td>1</td>\n",
       "      <td>PER_EMOTE_2201</td>\n",
       "      <td>NO2</td>\n",
       "      <td>ugm -3</td>\n",
       "      <td>2019-07-01 00:03:56</td>\n",
       "      <td>22.462965</td>\n",
       "      <td>False</td>\n",
       "    </tr>\n",
       "    <tr>\n",
       "      <td>2</td>\n",
       "      <td>PER_EMOTE_2201</td>\n",
       "      <td>NO2</td>\n",
       "      <td>ugm -3</td>\n",
       "      <td>2019-07-01 00:06:00</td>\n",
       "      <td>22.237575</td>\n",
       "      <td>False</td>\n",
       "    </tr>\n",
       "    <tr>\n",
       "      <td>3</td>\n",
       "      <td>PER_EMOTE_2201</td>\n",
       "      <td>NO2</td>\n",
       "      <td>ugm -3</td>\n",
       "      <td>2019-07-01 00:06:54</td>\n",
       "      <td>22.674700</td>\n",
       "      <td>False</td>\n",
       "    </tr>\n",
       "    <tr>\n",
       "      <td>4</td>\n",
       "      <td>PER_EMOTE_2201</td>\n",
       "      <td>NO2</td>\n",
       "      <td>ugm -3</td>\n",
       "      <td>2019-07-01 00:08:54</td>\n",
       "      <td>22.945350</td>\n",
       "      <td>False</td>\n",
       "    </tr>\n",
       "  </tbody>\n",
       "</table>\n",
       "</div>"
      ],
      "text/plain": [
       "      Sensor Name Variable   Units            Timestamp      Value  \\\n",
       "0  PER_EMOTE_2201      NO2  ugm -3  2019-07-01 00:00:56  21.849183   \n",
       "1  PER_EMOTE_2201      NO2  ugm -3  2019-07-01 00:03:56  22.462965   \n",
       "2  PER_EMOTE_2201      NO2  ugm -3  2019-07-01 00:06:00  22.237575   \n",
       "3  PER_EMOTE_2201      NO2  ugm -3  2019-07-01 00:06:54  22.674700   \n",
       "4  PER_EMOTE_2201      NO2  ugm -3  2019-07-01 00:08:54  22.945350   \n",
       "\n",
       "   Flagged as Suspect Reading  \n",
       "0                       False  \n",
       "1                       False  \n",
       "2                       False  \n",
       "3                       False  \n",
       "4                       False  "
      ]
     },
     "execution_count": 7,
     "metadata": {},
     "output_type": "execute_result"
    }
   ],
   "source": [
    "aq_df_total.head()"
   ]
  },
  {
   "cell_type": "markdown",
   "metadata": {},
   "source": [
    "Look at the types of variables and convert as necessary. The timestamp wilk be required for filtering by date, hence needs to be converted into datetime format."
   ]
  },
  {
   "cell_type": "code",
   "execution_count": 8,
   "metadata": {},
   "outputs": [
    {
     "name": "stdout",
     "output_type": "stream",
     "text": [
      "<class 'pandas.core.frame.DataFrame'>\n",
      "Int64Index: 6704133 entries, 0 to 44471\n",
      "Data columns (total 6 columns):\n",
      "Sensor Name                   object\n",
      "Variable                      object\n",
      "Units                         object\n",
      "Timestamp                     object\n",
      "Value                         float64\n",
      "Flagged as Suspect Reading    bool\n",
      "dtypes: bool(1), float64(1), object(4)\n",
      "memory usage: 313.3+ MB\n"
     ]
    }
   ],
   "source": [
    "aq_df_total.info()"
   ]
  },
  {
   "cell_type": "code",
   "execution_count": 9,
   "metadata": {},
   "outputs": [],
   "source": [
    "aq_df_total['Timestamp'] = pd.to_datetime(aq_df_total['Timestamp']) #Convert timestamp from object to datetime"
   ]
  },
  {
   "cell_type": "code",
   "execution_count": 10,
   "metadata": {},
   "outputs": [
    {
     "name": "stdout",
     "output_type": "stream",
     "text": [
      "<class 'pandas.core.frame.DataFrame'>\n",
      "Int64Index: 6704133 entries, 0 to 44471\n",
      "Data columns (total 6 columns):\n",
      "Sensor Name                   object\n",
      "Variable                      object\n",
      "Units                         object\n",
      "Timestamp                     datetime64[ns]\n",
      "Value                         float64\n",
      "Flagged as Suspect Reading    bool\n",
      "dtypes: bool(1), datetime64[ns](1), float64(1), object(3)\n",
      "memory usage: 313.3+ MB\n"
     ]
    }
   ],
   "source": [
    "aq_df_total.info() # Check if it worked"
   ]
  },
  {
   "cell_type": "markdown",
   "metadata": {},
   "source": [
    "Sort the data by date and filter to select only one day of measurements."
   ]
  },
  {
   "cell_type": "code",
   "execution_count": 11,
   "metadata": {},
   "outputs": [],
   "source": [
    "aq_date = aq_df_total.sort_values(by = 'Timestamp')"
   ]
  },
  {
   "cell_type": "code",
   "execution_count": 12,
   "metadata": {},
   "outputs": [],
   "source": [
    "aq_day = aq_date[(aq_date['Timestamp'] > '2019-07-24 00:00:00') & (aq_date['Timestamp'] < '2019-07-25 00:00:00')]"
   ]
  },
  {
   "cell_type": "code",
   "execution_count": 20,
   "metadata": {},
   "outputs": [
    {
     "name": "stdout",
     "output_type": "stream",
     "text": [
      "          Sensor Name Variable   Units           Timestamp      Value  \\\n",
      "16093  PER_EMOTE_2407      NO2  ugm -3 2019-07-24 00:00:08  80.912877   \n",
      "29662  PER_EMOTE_2504      NO2  ugm -3 2019-07-24 00:00:22  59.187386   \n",
      "26278  PER_EMOTE_2506      NO2  ugm -3 2019-07-24 00:00:23  62.964215   \n",
      "20735  PER_EMOTE_1409      NO2  ugm -3 2019-07-24 00:00:31  33.850315   \n",
      "27226  PER_EMOTE_1902      NO2  ugm -3 2019-07-24 00:00:34  45.862201   \n",
      "...               ...      ...     ...                 ...        ...   \n",
      "29753  PER_EMOTE_2797      NO2  ugm -3 2019-07-24 23:59:58  73.849512   \n",
      "28983  PER_EMOTE_2766      NO2  ugm -3 2019-07-24 23:59:58  73.592577   \n",
      "28403  PER_EMOTE_2796      NO2  ugm -3 2019-07-24 23:59:58  77.821427   \n",
      "28474  PER_EMOTE_2764      NO2  ugm -3 2019-07-24 23:59:58  75.447576   \n",
      "12016  PER_EMOTE_2754      NO2  ugm -3 2019-07-24 23:59:58  67.132587   \n",
      "\n",
      "       Flagged as Suspect Reading  \n",
      "16093                       False  \n",
      "29662                       False  \n",
      "26278                       False  \n",
      "20735                       False  \n",
      "27226                       False  \n",
      "...                           ...  \n",
      "29753                       False  \n",
      "28983                       False  \n",
      "28403                       False  \n",
      "28474                       False  \n",
      "12016                       False  \n",
      "\n",
      "[129469 rows x 6 columns]\n"
     ]
    }
   ],
   "source": [
    "print(aq_day)"
   ]
  },
  {
   "cell_type": "code",
   "execution_count": 21,
   "metadata": {},
   "outputs": [],
   "source": [
    "aq_day.to_csv(r'C:\\Temp\\no2_newcastle_24th.csv', index = False)"
   ]
  },
  {
   "cell_type": "markdown",
   "metadata": {},
   "source": [
    "To be able to map the air quality, we also need the data on the location of the sensors. These can be obtained from the \"sensors\" folder. The data will be extracted and stored in the same way as the measurement data."
   ]
  },
  {
   "cell_type": "code",
   "execution_count": 13,
   "metadata": {},
   "outputs": [],
   "source": [
    "PATH2 = 'D:/group_project/urban_observatory/sensors'\n",
    "\n",
    "all_stations = []\n",
    "for path, subdir, files in os.walk(PATH2):\n",
    "    for file in glob(os.path.join(path, EXT)):\n",
    "        all_stations.append(file)"
   ]
  },
  {
   "cell_type": "code",
   "execution_count": 14,
   "metadata": {},
   "outputs": [],
   "source": [
    "station_df = []\n",
    "for file in all_stations:\n",
    "    station_df.append(pd.read_csv(file))"
   ]
  },
  {
   "cell_type": "code",
   "execution_count": 15,
   "metadata": {},
   "outputs": [],
   "source": [
    "stations_df = pd.concat(station_df)"
   ]
  },
  {
   "cell_type": "code",
   "execution_count": 16,
   "metadata": {
    "scrolled": true
   },
   "outputs": [
    {
     "name": "stdout",
     "output_type": "stream",
     "text": [
      "                  Sensor Name                                Location (WKT)  \\\n",
      "0              PER_EMOTE_2201                   POINT (-1.625927 54.975575)   \n",
      "0      PER_AIRMON_MESH1919150                   POINT (-1.611256 55.012987)   \n",
      "0      PER_AIRMON_MESH1911150                    POINT (-1.577888 54.98891)   \n",
      "0      PER_AIRMON_MESH1756150                   POINT (-1.617166 54.974211)   \n",
      "0      PER_AIRMON_MESH1759150                   POINT (-1.613355 54.977854)   \n",
      "..                        ...                                           ...   \n",
      "0      PER_AIRMON_MESH1764150                      POINT (-1.6135 54.97768)   \n",
      "0      PER_AIRMON_MESH1765150                     POINT (-1.61014 54.97461)   \n",
      "0      PER_AIRMON_MESH1907150                    POINT (-1.227964 54.58449)   \n",
      "0   PER_AIRMON_MONITOR1056100                     POINT (-1.60341 54.96565)   \n",
      "0      PER_AIRMON_MESH1961150  POINT (-1.451320650886791 54.99331752310323)   \n",
      "\n",
      "    Ground Height Above Sea Level  Sensor Height Above Ground  \\\n",
      "0                       68.470001                         2.0   \n",
      "0                       48.660000                         2.0   \n",
      "0                       48.410000                         2.0   \n",
      "0                       47.369999                         2.0   \n",
      "0                       47.779999                         2.0   \n",
      "..                            ...                         ...   \n",
      "0                       47.599998                         2.0   \n",
      "0                       42.740002                         2.0   \n",
      "0                       -1.410000                         2.0   \n",
      "0                       31.410000                         2.0   \n",
      "0                        5.570000                         2.0   \n",
      "\n",
      "                 Broker Name  Third Party  Sensor Centroid Longitude  \\\n",
      "0   Emote Air Quality Sensor        False                  -1.625927   \n",
      "0                aq_mesh_api        False                  -1.611256   \n",
      "0                aq_mesh_api        False                  -1.577888   \n",
      "0                aq_mesh_api        False                  -1.617166   \n",
      "0                aq_mesh_api        False                  -1.613355   \n",
      "..                       ...          ...                        ...   \n",
      "0                aq_mesh_api        False                  -1.613500   \n",
      "0                aq_mesh_api        False                  -1.610140   \n",
      "0                aq_mesh_api        False                  -1.227964   \n",
      "0                aq_mesh_api        False                  -1.603410   \n",
      "0                aq_mesh_api        False                  -1.451321   \n",
      "\n",
      "    Sensor Centroid Latitude  Raw ID  \n",
      "0                  54.975575   73258  \n",
      "0                  55.012987   79162  \n",
      "0                  54.988910   79154  \n",
      "0                  54.974211   73085  \n",
      "0                  54.977854   73088  \n",
      "..                       ...     ...  \n",
      "0                  54.977680   73093  \n",
      "0                  54.974610   73094  \n",
      "0                  54.584490   79150  \n",
      "0                  54.965650   79191  \n",
      "0                  54.993318   79197  \n",
      "\n",
      "[249 rows x 9 columns]\n"
     ]
    }
   ],
   "source": [
    "print(stations_df)"
   ]
  },
  {
   "cell_type": "markdown",
   "metadata": {},
   "source": [
    "Merge the station data with the measurement data by sensor name, so that every measurement is assigned a location."
   ]
  },
  {
   "cell_type": "code",
   "execution_count": 17,
   "metadata": {},
   "outputs": [],
   "source": [
    "no2_newcastle_240719 = pd.merge(aq_day, stations_df, on = 'Sensor Name')"
   ]
  },
  {
   "cell_type": "code",
   "execution_count": 30,
   "metadata": {},
   "outputs": [
    {
     "name": "stdout",
     "output_type": "stream",
     "text": [
      "           Sensor Name Variable   Units           Timestamp      Value  \\\n",
      "0       PER_EMOTE_2407      NO2  ugm -3 2019-07-24 00:00:08  80.912877   \n",
      "1       PER_EMOTE_2407      NO2  ugm -3 2019-07-24 00:02:22  80.520081   \n",
      "2       PER_EMOTE_2407      NO2  ugm -3 2019-07-24 00:04:26  79.847816   \n",
      "3       PER_EMOTE_2407      NO2  ugm -3 2019-07-24 00:06:09  79.009916   \n",
      "4       PER_EMOTE_2407      NO2  ugm -3 2019-07-24 00:07:10  78.309173   \n",
      "...                ...      ...     ...                 ...        ...   \n",
      "243131  PER_EMOTE_1172      NO2  ugm -3 2019-07-24 17:27:06  58.468657   \n",
      "243132  PER_EMOTE_1172      NO2  ugm -3 2019-07-24 17:28:06  60.982671   \n",
      "243133  PER_EMOTE_1172      NO2  ugm -3 2019-07-24 17:28:06  60.982671   \n",
      "243134  PER_EMOTE_1172      NO2  ugm -3 2019-07-24 17:30:07  61.086616   \n",
      "243135  PER_EMOTE_1172      NO2  ugm -3 2019-07-24 17:30:07  61.086616   \n",
      "\n",
      "        Flagged as Suspect Reading               Location (WKT)  \\\n",
      "0                            False  POINT (-1.617473 54.981342)   \n",
      "1                            False  POINT (-1.617473 54.981342)   \n",
      "2                            False  POINT (-1.617473 54.981342)   \n",
      "3                            False  POINT (-1.617473 54.981342)   \n",
      "4                            False  POINT (-1.617473 54.981342)   \n",
      "...                            ...                          ...   \n",
      "243131                       False  POINT (-1.595367 54.986412)   \n",
      "243132                       False  POINT (-1.595367 54.986412)   \n",
      "243133                       False  POINT (-1.595367 54.986412)   \n",
      "243134                       False  POINT (-1.595367 54.986412)   \n",
      "243135                       False  POINT (-1.595367 54.986412)   \n",
      "\n",
      "        Ground Height Above Sea Level  Sensor Height Above Ground  \\\n",
      "0                           53.160000                         2.0   \n",
      "1                           53.160000                         2.0   \n",
      "2                           53.160000                         2.0   \n",
      "3                           53.160000                         2.0   \n",
      "4                           53.160000                         2.0   \n",
      "...                               ...                         ...   \n",
      "243131                      44.220001                         2.0   \n",
      "243132                      44.220001                         2.0   \n",
      "243133                      44.220001                         2.0   \n",
      "243134                      44.220001                         2.0   \n",
      "243135                      44.220001                         2.0   \n",
      "\n",
      "                     Broker Name  Third Party  Sensor Centroid Longitude  \\\n",
      "0       Emote Air Quality Sensor        False                  -1.617473   \n",
      "1       Emote Air Quality Sensor        False                  -1.617473   \n",
      "2       Emote Air Quality Sensor        False                  -1.617473   \n",
      "3       Emote Air Quality Sensor        False                  -1.617473   \n",
      "4       Emote Air Quality Sensor        False                  -1.617473   \n",
      "...                          ...          ...                        ...   \n",
      "243131  Emote Air Quality Sensor        False                  -1.595367   \n",
      "243132  Emote Air Quality Sensor        False                  -1.595367   \n",
      "243133  Emote Air Quality Sensor        False                  -1.595367   \n",
      "243134  Emote Air Quality Sensor        False                  -1.595367   \n",
      "243135  Emote Air Quality Sensor        False                  -1.595367   \n",
      "\n",
      "        Sensor Centroid Latitude  Raw ID  \n",
      "0                      54.981342   73232  \n",
      "1                      54.981342   73232  \n",
      "2                      54.981342   73232  \n",
      "3                      54.981342   73232  \n",
      "4                      54.981342   73232  \n",
      "...                          ...     ...  \n",
      "243131                 54.986412    1610  \n",
      "243132                 54.986412    1610  \n",
      "243133                 54.986412    1610  \n",
      "243134                 54.986412    1610  \n",
      "243135                 54.986412    1610  \n",
      "\n",
      "[243136 rows x 14 columns]\n"
     ]
    }
   ],
   "source": [
    "print(no2_newcastle_240719)"
   ]
  },
  {
   "cell_type": "markdown",
   "metadata": {},
   "source": [
    "Filter out all the potentailly wrong readings (flagged as suspect)."
   ]
  },
  {
   "cell_type": "code",
   "execution_count": 39,
   "metadata": {},
   "outputs": [],
   "source": [
    "no2_newc_correct = no2_newcastle_240719.loc[no2_newcastle_240719['Flagged as Suspect Reading'] == False]"
   ]
  },
  {
   "cell_type": "code",
   "execution_count": 40,
   "metadata": {},
   "outputs": [
    {
     "name": "stdout",
     "output_type": "stream",
     "text": [
      "           Sensor Name Variable   Units           Timestamp      Value  \\\n",
      "0       PER_EMOTE_2407      NO2  ugm -3 2019-07-24 00:00:08  80.912877   \n",
      "1       PER_EMOTE_2407      NO2  ugm -3 2019-07-24 00:02:22  80.520081   \n",
      "2       PER_EMOTE_2407      NO2  ugm -3 2019-07-24 00:04:26  79.847816   \n",
      "3       PER_EMOTE_2407      NO2  ugm -3 2019-07-24 00:06:09  79.009916   \n",
      "4       PER_EMOTE_2407      NO2  ugm -3 2019-07-24 00:07:10  78.309173   \n",
      "...                ...      ...     ...                 ...        ...   \n",
      "243131  PER_EMOTE_1172      NO2  ugm -3 2019-07-24 17:27:06  58.468657   \n",
      "243132  PER_EMOTE_1172      NO2  ugm -3 2019-07-24 17:28:06  60.982671   \n",
      "243133  PER_EMOTE_1172      NO2  ugm -3 2019-07-24 17:28:06  60.982671   \n",
      "243134  PER_EMOTE_1172      NO2  ugm -3 2019-07-24 17:30:07  61.086616   \n",
      "243135  PER_EMOTE_1172      NO2  ugm -3 2019-07-24 17:30:07  61.086616   \n",
      "\n",
      "        Flagged as Suspect Reading               Location (WKT)  \\\n",
      "0                            False  POINT (-1.617473 54.981342)   \n",
      "1                            False  POINT (-1.617473 54.981342)   \n",
      "2                            False  POINT (-1.617473 54.981342)   \n",
      "3                            False  POINT (-1.617473 54.981342)   \n",
      "4                            False  POINT (-1.617473 54.981342)   \n",
      "...                            ...                          ...   \n",
      "243131                       False  POINT (-1.595367 54.986412)   \n",
      "243132                       False  POINT (-1.595367 54.986412)   \n",
      "243133                       False  POINT (-1.595367 54.986412)   \n",
      "243134                       False  POINT (-1.595367 54.986412)   \n",
      "243135                       False  POINT (-1.595367 54.986412)   \n",
      "\n",
      "        Ground Height Above Sea Level  Sensor Height Above Ground  \\\n",
      "0                           53.160000                         2.0   \n",
      "1                           53.160000                         2.0   \n",
      "2                           53.160000                         2.0   \n",
      "3                           53.160000                         2.0   \n",
      "4                           53.160000                         2.0   \n",
      "...                               ...                         ...   \n",
      "243131                      44.220001                         2.0   \n",
      "243132                      44.220001                         2.0   \n",
      "243133                      44.220001                         2.0   \n",
      "243134                      44.220001                         2.0   \n",
      "243135                      44.220001                         2.0   \n",
      "\n",
      "                     Broker Name  Third Party  Sensor Centroid Longitude  \\\n",
      "0       Emote Air Quality Sensor        False                  -1.617473   \n",
      "1       Emote Air Quality Sensor        False                  -1.617473   \n",
      "2       Emote Air Quality Sensor        False                  -1.617473   \n",
      "3       Emote Air Quality Sensor        False                  -1.617473   \n",
      "4       Emote Air Quality Sensor        False                  -1.617473   \n",
      "...                          ...          ...                        ...   \n",
      "243131  Emote Air Quality Sensor        False                  -1.595367   \n",
      "243132  Emote Air Quality Sensor        False                  -1.595367   \n",
      "243133  Emote Air Quality Sensor        False                  -1.595367   \n",
      "243134  Emote Air Quality Sensor        False                  -1.595367   \n",
      "243135  Emote Air Quality Sensor        False                  -1.595367   \n",
      "\n",
      "        Sensor Centroid Latitude  Raw ID  \n",
      "0                      54.981342   73232  \n",
      "1                      54.981342   73232  \n",
      "2                      54.981342   73232  \n",
      "3                      54.981342   73232  \n",
      "4                      54.981342   73232  \n",
      "...                          ...     ...  \n",
      "243131                 54.986412    1610  \n",
      "243132                 54.986412    1610  \n",
      "243133                 54.986412    1610  \n",
      "243134                 54.986412    1610  \n",
      "243135                 54.986412    1610  \n",
      "\n",
      "[240502 rows x 14 columns]\n"
     ]
    }
   ],
   "source": [
    "print(no2_newc_correct)"
   ]
  },
  {
   "cell_type": "code",
   "execution_count": 32,
   "metadata": {},
   "outputs": [],
   "source": [
    "no2_newcastle_240719.to_csv(r'C:\\Temp\\no2_newcastle_24th_loc.csv', index = False)"
   ]
  },
  {
   "cell_type": "code",
   "execution_count": 41,
   "metadata": {},
   "outputs": [],
   "source": [
    "no2_max = no2_newc_correct.groupby(['Sensor Name', 'Sensor Centroid Longitude', 'Sensor Centroid Latitude'], as_index=False)['Value'].max()"
   ]
  },
  {
   "cell_type": "code",
   "execution_count": 42,
   "metadata": {},
   "outputs": [
    {
     "name": "stdout",
     "output_type": "stream",
     "text": [
      "                Sensor Name  Sensor Centroid Longitude  \\\n",
      "0    PER_AIRMON_MESH1756150                  -1.617166   \n",
      "1    PER_AIRMON_MESH1757150                  -1.617310   \n",
      "2    PER_AIRMON_MESH1758150                  -1.603421   \n",
      "3    PER_AIRMON_MESH1759150                  -1.613355   \n",
      "4    PER_AIRMON_MESH1760150                  -1.610690   \n",
      "..                      ...                        ...   \n",
      "124          PER_EMOTE_2902                  -1.621425   \n",
      "125          PER_EMOTE_2903                  -1.620576   \n",
      "126          PER_EMOTE_2904                  -1.620964   \n",
      "127          PER_EMOTE_2905                  -1.621091   \n",
      "128          PER_EMOTE_2906                  -1.620766   \n",
      "\n",
      "     Sensor Centroid Latitude       Value  \n",
      "0                   54.974211  169.540280  \n",
      "1                   54.972260  386.330600  \n",
      "2                   54.965651  119.231480  \n",
      "3                   54.977854  131.829360  \n",
      "4                   54.972230  192.645480  \n",
      "..                        ...         ...  \n",
      "124                 55.012202  123.529217  \n",
      "125                 55.011682   94.935749  \n",
      "126                 55.012027   79.889880  \n",
      "127                 55.012531   94.200905  \n",
      "128                 55.012875   92.052379  \n",
      "\n",
      "[129 rows x 4 columns]\n"
     ]
    }
   ],
   "source": [
    "print(no2_max)"
   ]
  },
  {
   "cell_type": "code",
   "execution_count": 44,
   "metadata": {},
   "outputs": [],
   "source": [
    "newc_no2_24th = no2_max.to_frame()"
   ]
  },
  {
   "cell_type": "code",
   "execution_count": 43,
   "metadata": {},
   "outputs": [],
   "source": [
    "no2_max.to_csv(r'C:\\Temp\\no2_max_newc_24th.csv', index = False)"
   ]
  },
  {
   "cell_type": "markdown",
   "metadata": {},
   "source": [
    "### Monthly average NO2"
   ]
  },
  {
   "cell_type": "code",
   "execution_count": 48,
   "metadata": {},
   "outputs": [],
   "source": [
    "aq_july = aq_date[(aq_date['Timestamp'] > '2019-07-01 00:00:00') & (aq_date['Timestamp'] < '2019-07-31 23:59:00')]"
   ]
  },
  {
   "cell_type": "code",
   "execution_count": 49,
   "metadata": {},
   "outputs": [],
   "source": [
    "aq_july_merged = pd.merge(aq_july, stations_df, on = 'Sensor Name')"
   ]
  },
  {
   "cell_type": "code",
   "execution_count": 50,
   "metadata": {},
   "outputs": [],
   "source": [
    "no2_july_corr = aq_july_merged.loc[aq_july_merged['Flagged as Suspect Reading'] == False]"
   ]
  },
  {
   "cell_type": "code",
   "execution_count": 51,
   "metadata": {},
   "outputs": [],
   "source": [
    "no2_avg = no2_july_corr.groupby(['Sensor Name', 'Sensor Centroid Longitude', 'Sensor Centroid Latitude'], as_index=False)['Value'].mean()"
   ]
  },
  {
   "cell_type": "code",
   "execution_count": 52,
   "metadata": {},
   "outputs": [
    {
     "name": "stdout",
     "output_type": "stream",
     "text": [
      "                Sensor Name  Sensor Centroid Longitude  \\\n",
      "0    PER_AIRMON_MESH1756150                  -1.617166   \n",
      "1    PER_AIRMON_MESH1757150                  -1.617310   \n",
      "2    PER_AIRMON_MESH1758150                  -1.603421   \n",
      "3    PER_AIRMON_MESH1759150                  -1.613355   \n",
      "4    PER_AIRMON_MESH1760150                  -1.610690   \n",
      "..                      ...                        ...   \n",
      "126          PER_EMOTE_2902                  -1.621425   \n",
      "127          PER_EMOTE_2903                  -1.620576   \n",
      "128          PER_EMOTE_2904                  -1.620964   \n",
      "129          PER_EMOTE_2905                  -1.621091   \n",
      "130          PER_EMOTE_2906                  -1.620766   \n",
      "\n",
      "     Sensor Centroid Latitude      Value  \n",
      "0                   54.974211  49.329720  \n",
      "1                   54.972260  41.243479  \n",
      "2                   54.965651  41.827877  \n",
      "3                   54.977854  44.906154  \n",
      "4                   54.972230  48.772385  \n",
      "..                        ...        ...  \n",
      "126                 55.012202  37.345554  \n",
      "127                 55.011682  39.158143  \n",
      "128                 55.012027  34.836671  \n",
      "129                 55.012531  39.009910  \n",
      "130                 55.012875  36.785326  \n",
      "\n",
      "[131 rows x 4 columns]\n"
     ]
    }
   ],
   "source": [
    "print(no2_avg)"
   ]
  },
  {
   "cell_type": "code",
   "execution_count": 54,
   "metadata": {},
   "outputs": [],
   "source": [
    "no2_avg.to_csv(r'C:\\Temp\\no2_avg_newc_july.csv', index = False)"
   ]
  }
 ],
 "metadata": {
  "kernelspec": {
   "display_name": "Python 3",
   "language": "python",
   "name": "python3"
  },
  "language_info": {
   "codemirror_mode": {
    "name": "ipython",
    "version": 3
   },
   "file_extension": ".py",
   "mimetype": "text/x-python",
   "name": "python",
   "nbconvert_exporter": "python",
   "pygments_lexer": "ipython3",
   "version": "3.7.4"
  }
 },
 "nbformat": 4,
 "nbformat_minor": 2
}
